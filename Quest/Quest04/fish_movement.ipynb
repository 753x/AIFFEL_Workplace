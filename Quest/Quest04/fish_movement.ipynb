{
  "nbformat": 4,
  "nbformat_minor": 0,
  "metadata": {
    "colab": {
      "provenance": [],
      "include_colab_link": true
    },
    "kernelspec": {
      "name": "python3",
      "display_name": "Python 3"
    },
    "language_info": {
      "name": "python"
    }
  },
  "cells": [
    {
      "cell_type": "markdown",
      "metadata": {
        "id": "view-in-github",
        "colab_type": "text"
      },
      "source": [
        "<a href=\"https://colab.research.google.com/github/LaVita337/AIFFEL_Workplace/blob/main/Quest/Quest04/fish_movement.ipynb\" target=\"_parent\"><img src=\"https://colab.research.google.com/assets/colab-badge.svg\" alt=\"Open In Colab\"/></a>"
      ]
    },
    {
      "cell_type": "code",
      "execution_count": 33,
      "metadata": {
        "colab": {
          "base_uri": "https://localhost:8080/"
        },
        "id": "KUYB-AJNp5dQ",
        "outputId": "f7c63c08-0c07-4371-bba0-d9881211d74e"
      },
      "outputs": [
        {
          "output_type": "stream",
          "name": "stdout",
          "text": [
            "Using Comprehension:\n",
            "Nemo is swimming at 3 m/s\n",
            "Dory is swimming at 5 m/s\n",
            "Using Generator:\n",
            "Nemo is swimming at 3 m/s\n",
            "Dory is swimming at 5 m/s\n"
          ]
        }
      ],
      "source": [
        "import time\n",
        "\n",
        "fish_list = [{\"이름\": \"Nemo\", \"speed\": 3}, {\"이름\": \"Dory\", \"speed\": 5}]\n",
        "\n",
        "# 입력받는 물고기 리스트를 출력하는 컴프리헨션 함수\n",
        "def show_fish_movement_comprehension(fish_list):\n",
        "    movement = [f\"{fish['이름']} is swimming at {fish['speed']} m/s\" for fish in fish_list]\n",
        "    for m in movement:\n",
        "        print(m)\n",
        "        time.sleep(2)\n",
        "\n",
        "# 입력받는 물고기 리스트를 출력하는 제너레이터 함수\n",
        "# yield를 사용해 동적으로 물고기 리스트 이터레이터를 생성해 출력 for문에 전달\n",
        "def show_fish_movement_generator(fish_list):\n",
        "    def movement_generator():\n",
        "        for fish in fish_list:\n",
        "            yield f\"{fish['이름']} is swimming at {fish['speed']} m/s\"\n",
        "\n",
        "    for m in movement_generator():\n",
        "        print(m)\n",
        "        time.sleep(2) # 출력 시 2초 지연\n",
        "\n",
        "\n",
        "print(\"Using Comprehension:\")\n",
        "show_fish_movement_comprehension(fish_list)\n",
        "print(\"Using Generator:\")\n",
        "show_fish_movement_generator(fish_list)"
      ]
    },
    {
      "cell_type": "code",
      "source": [
        "fish_list = {\"이름\": \"Nemo\", \"speed\": 3}, {\"이름\": \"Dory\", \"speed\": 5}\n",
        "\n",
        "print(fish_list['이름'])"
      ],
      "metadata": {
        "id": "Fw3U0wn2wo88",
        "colab": {
          "base_uri": "https://localhost:8080/",
          "height": 204
        },
        "outputId": "a924af67-d2ea-4852-ac6d-ad6343714e37"
      },
      "execution_count": 31,
      "outputs": [
        {
          "output_type": "error",
          "ename": "TypeError",
          "evalue": "ignored",
          "traceback": [
            "\u001b[0;31m---------------------------------------------------------------------------\u001b[0m",
            "\u001b[0;31mTypeError\u001b[0m                                 Traceback (most recent call last)",
            "\u001b[0;32m<ipython-input-31-9c8770669ee0>\u001b[0m in \u001b[0;36m<cell line: 3>\u001b[0;34m()\u001b[0m\n\u001b[1;32m      1\u001b[0m \u001b[0mfish_list\u001b[0m \u001b[0;34m=\u001b[0m \u001b[0;34m{\u001b[0m\u001b[0;34m\"이름\"\u001b[0m\u001b[0;34m:\u001b[0m \u001b[0;34m\"Nemo\"\u001b[0m\u001b[0;34m,\u001b[0m \u001b[0;34m\"speed\"\u001b[0m\u001b[0;34m:\u001b[0m \u001b[0;36m3\u001b[0m\u001b[0;34m}\u001b[0m\u001b[0;34m,\u001b[0m \u001b[0;34m{\u001b[0m\u001b[0;34m\"이름\"\u001b[0m\u001b[0;34m:\u001b[0m \u001b[0;34m\"Dory\"\u001b[0m\u001b[0;34m,\u001b[0m \u001b[0;34m\"speed\"\u001b[0m\u001b[0;34m:\u001b[0m \u001b[0;36m5\u001b[0m\u001b[0;34m}\u001b[0m\u001b[0;34m\u001b[0m\u001b[0;34m\u001b[0m\u001b[0m\n\u001b[1;32m      2\u001b[0m \u001b[0;34m\u001b[0m\u001b[0m\n\u001b[0;32m----> 3\u001b[0;31m \u001b[0mprint\u001b[0m\u001b[0;34m(\u001b[0m\u001b[0mfish_list\u001b[0m\u001b[0;34m[\u001b[0m\u001b[0;34m'이름'\u001b[0m\u001b[0;34m]\u001b[0m\u001b[0;34m)\u001b[0m\u001b[0;34m\u001b[0m\u001b[0;34m\u001b[0m\u001b[0m\n\u001b[0m",
            "\u001b[0;31mTypeError\u001b[0m: tuple indices must be integers or slices, not str"
          ]
        }
      ]
    }
  ]
}