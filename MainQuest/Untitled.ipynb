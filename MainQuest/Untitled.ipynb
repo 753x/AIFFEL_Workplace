{
 "cells": [
  {
   "cell_type": "code",
   "execution_count": 59,
   "id": "eb1bbc3a",
   "metadata": {},
   "outputs": [
    {
     "data": {
      "text/plain": [
       "'2326217'"
      ]
     },
     "execution_count": 59,
     "metadata": {},
     "output_type": "execute_result"
    }
   ],
   "source": [
    "groo_dict = {\n",
    "    '김건': 0, '김경민': 0, '김소연': 0,\n",
    "    '김영신': 0, '박근수': 0, '박영수': 0, \n",
    "    '박영준': 0, '서원영': 0, '신지만': 0, \n",
    "    '심지안': 0, '이규상': 0, '이윤상': 0, \n",
    "    '이진영': 0, '임현석': 0, '전요한': 0, \n",
    "    '전재영': 0, '조대희':0\n",
    "    }\n",
    "\n",
    "# Q1. 코어 명단(딕셔너리)을 입력받아 학번을 부여하는 초기화 메서드를 작성해보세요\n",
    "\n",
    "# YYNNCXX\n",
    "# YY : 연도 마지막 두 자리 (ex. 2023년은 23) NN : 기수 (온라인 4기는 25기) C : 과정 종류 (리서치=1, 코어=2) XX : 가나다순 번호\n",
    "\n",
    "class Aiffel:\n",
    "    def __init__(self, 이름, 입학년도, 기수, 과정명):\n",
    "        self.이름 = 이름\n",
    "        self.입학년도 = 입학년도\n",
    "        self.기수 = 기수\n",
    "        self.과정명 = 과정명\n",
    "        self.studentId = self.generate_ID()\n",
    "\n",
    "    def generate_ID(self):\n",
    "        def course_checker(과정명):\n",
    "            if 과정명 == '리서치':\n",
    "                return 1\n",
    "            elif 과정명 == '코어':\n",
    "                return 2\n",
    "            else:\n",
    "                raise ValueError(\"1.리서치 / 2.코어\")\n",
    "        \n",
    "        student_num = str(list(groo_dict.keys()).index(self.이름) + 1).zfill(2) # zfill(2)를 했을때 두자리 중 한자리가 비어있으면 0으로 처리함 | str()fh 문자열로 바꾼 후 사용가능\n",
    "        groo_id = f\"{self.입학년도[2:]}{self.기수}{course_checker(self.과정명)}{student_num}\"\n",
    "        return groo_id\n",
    "    \n",
    "\n",
    "    #Q3. Aiffel 클래스에 퀘스트 점수 입력을 위한 score 메서드를 추가하세요. 점수는 +1점 부터 +3점까지만 가능합니다.\n",
    "    def score():\n",
    "        now_score = 0\n",
    "        while now_score <= 0 and now_score >= 3:\n",
    "            now_score = int(input(\"점수를 임력하세요. : \"))\n",
    "\n",
    "            \n",
    "    \n",
    "anonymous = Aiffel('조대희', '2023', 26, '코어')\n",
    "anonymous.generate_ID()\n"
   ]
  },
  {
   "cell_type": "code",
   "execution_count": 60,
   "id": "6cb4d792",
   "metadata": {},
   "outputs": [
    {
     "name": "stdout",
     "output_type": "stream",
     "text": [
      "김건: 2326201\n",
      "김경민: 2326202\n",
      "김소연: 2326203\n",
      "김영신: 2326204\n",
      "박근수: 2326205\n",
      "박영수: 2326206\n",
      "박영준: 2326207\n",
      "서원영: 2326208\n",
      "신지만: 2326209\n",
      "심지안: 2326210\n",
      "이규상: 2326211\n",
      "이윤상: 2326212\n",
      "이진영: 2326213\n",
      "임현석: 2326214\n",
      "전요한: 2326215\n",
      "전재영: 2326216\n",
      "조대희: 2326217\n"
     ]
    }
   ],
   "source": [
    "#Q2. Aiffel 클래스로부터 생성된 학번의 개수를 출력하는 get_id_num() 메서드를 추가하세요\n",
    "\n",
    "students_list = []\n",
    "\n",
    "for 이름 in groo_dict.keys():\n",
    "    student = Aiffel(이름, '2023', 26, '코어')\n",
    "    students_list.append(student)\n",
    "\n",
    "# 학생들의 학번 출력\n",
    "for student in students_list:\n",
    "    print(f\"{student.이름}: {student.studentId}\")\n"
   ]
  },
  {
   "cell_type": "code",
   "execution_count": null,
   "id": "b15d5ad4",
   "metadata": {},
   "outputs": [],
   "source": []
  }
 ],
 "metadata": {
  "kernelspec": {
   "display_name": "Python 3 (ipykernel)",
   "language": "python",
   "name": "python3"
  },
  "language_info": {
   "codemirror_mode": {
    "name": "ipython",
    "version": 3
   },
   "file_extension": ".py",
   "mimetype": "text/x-python",
   "name": "python",
   "nbconvert_exporter": "python",
   "pygments_lexer": "ipython3",
   "version": "3.11.4"
  }
 },
 "nbformat": 4,
 "nbformat_minor": 5
}
